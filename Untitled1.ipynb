{
  "cells": [
    {
      "cell_type": "markdown",
      "metadata": {
        "id": "view-in-github",
        "colab_type": "text"
      },
      "source": [
        "<a href=\"https://colab.research.google.com/github/jacobdaviesssd/testwebsite/blob/main/Untitled1.ipynb\" target=\"_parent\"><img src=\"https://colab.research.google.com/assets/colab-badge.svg\" alt=\"Open In Colab\"/></a>"
      ]
    },
    {
      "cell_type": "code",
      "execution_count": null,
      "metadata": {
        "colab": {
          "base_uri": "https://localhost:8080/",
          "height": 571
        },
        "id": "6o36tVjO3o1i",
        "outputId": "59ecf365-7683-4bb0-8b13-58803827f310"
      },
      "outputs": [
        {
          "data": {
            "text/html": [
              "\n",
              "     <input type=\"file\" id=\"files-91a4ebde-7fb4-44fa-a1dd-ce0b0c88c49f\" name=\"files[]\" multiple disabled\n",
              "        style=\"border:none\" />\n",
              "     <output id=\"result-91a4ebde-7fb4-44fa-a1dd-ce0b0c88c49f\">\n",
              "      Upload widget is only available when the cell has been executed in the\n",
              "      current browser session. Please rerun this cell to enable.\n",
              "      </output>\n",
              "      <script>// Copyright 2017 Google LLC\n",
              "//\n",
              "// Licensed under the Apache License, Version 2.0 (the \"License\");\n",
              "// you may not use this file except in compliance with the License.\n",
              "// You may obtain a copy of the License at\n",
              "//\n",
              "//      http://www.apache.org/licenses/LICENSE-2.0\n",
              "//\n",
              "// Unless required by applicable law or agreed to in writing, software\n",
              "// distributed under the License is distributed on an \"AS IS\" BASIS,\n",
              "// WITHOUT WARRANTIES OR CONDITIONS OF ANY KIND, either express or implied.\n",
              "// See the License for the specific language governing permissions and\n",
              "// limitations under the License.\n",
              "\n",
              "/**\n",
              " * @fileoverview Helpers for google.colab Python module.\n",
              " */\n",
              "(function(scope) {\n",
              "function span(text, styleAttributes = {}) {\n",
              "  const element = document.createElement('span');\n",
              "  element.textContent = text;\n",
              "  for (const key of Object.keys(styleAttributes)) {\n",
              "    element.style[key] = styleAttributes[key];\n",
              "  }\n",
              "  return element;\n",
              "}\n",
              "\n",
              "// Max number of bytes which will be uploaded at a time.\n",
              "const MAX_PAYLOAD_SIZE = 100 * 1024;\n",
              "\n",
              "function _uploadFiles(inputId, outputId) {\n",
              "  const steps = uploadFilesStep(inputId, outputId);\n",
              "  const outputElement = document.getElementById(outputId);\n",
              "  // Cache steps on the outputElement to make it available for the next call\n",
              "  // to uploadFilesContinue from Python.\n",
              "  outputElement.steps = steps;\n",
              "\n",
              "  return _uploadFilesContinue(outputId);\n",
              "}\n",
              "\n",
              "// This is roughly an async generator (not supported in the browser yet),\n",
              "// where there are multiple asynchronous steps and the Python side is going\n",
              "// to poll for completion of each step.\n",
              "// This uses a Promise to block the python side on completion of each step,\n",
              "// then passes the result of the previous step as the input to the next step.\n",
              "function _uploadFilesContinue(outputId) {\n",
              "  const outputElement = document.getElementById(outputId);\n",
              "  const steps = outputElement.steps;\n",
              "\n",
              "  const next = steps.next(outputElement.lastPromiseValue);\n",
              "  return Promise.resolve(next.value.promise).then((value) => {\n",
              "    // Cache the last promise value to make it available to the next\n",
              "    // step of the generator.\n",
              "    outputElement.lastPromiseValue = value;\n",
              "    return next.value.response;\n",
              "  });\n",
              "}\n",
              "\n",
              "/**\n",
              " * Generator function which is called between each async step of the upload\n",
              " * process.\n",
              " * @param {string} inputId Element ID of the input file picker element.\n",
              " * @param {string} outputId Element ID of the output display.\n",
              " * @return {!Iterable<!Object>} Iterable of next steps.\n",
              " */\n",
              "function* uploadFilesStep(inputId, outputId) {\n",
              "  const inputElement = document.getElementById(inputId);\n",
              "  inputElement.disabled = false;\n",
              "\n",
              "  const outputElement = document.getElementById(outputId);\n",
              "  outputElement.innerHTML = '';\n",
              "\n",
              "  const pickedPromise = new Promise((resolve) => {\n",
              "    inputElement.addEventListener('change', (e) => {\n",
              "      resolve(e.target.files);\n",
              "    });\n",
              "  });\n",
              "\n",
              "  const cancel = document.createElement('button');\n",
              "  inputElement.parentElement.appendChild(cancel);\n",
              "  cancel.textContent = 'Cancel upload';\n",
              "  const cancelPromise = new Promise((resolve) => {\n",
              "    cancel.onclick = () => {\n",
              "      resolve(null);\n",
              "    };\n",
              "  });\n",
              "\n",
              "  // Wait for the user to pick the files.\n",
              "  const files = yield {\n",
              "    promise: Promise.race([pickedPromise, cancelPromise]),\n",
              "    response: {\n",
              "      action: 'starting',\n",
              "    }\n",
              "  };\n",
              "\n",
              "  cancel.remove();\n",
              "\n",
              "  // Disable the input element since further picks are not allowed.\n",
              "  inputElement.disabled = true;\n",
              "\n",
              "  if (!files) {\n",
              "    return {\n",
              "      response: {\n",
              "        action: 'complete',\n",
              "      }\n",
              "    };\n",
              "  }\n",
              "\n",
              "  for (const file of files) {\n",
              "    const li = document.createElement('li');\n",
              "    li.append(span(file.name, {fontWeight: 'bold'}));\n",
              "    li.append(span(\n",
              "        `(${file.type || 'n/a'}) - ${file.size} bytes, ` +\n",
              "        `last modified: ${\n",
              "            file.lastModifiedDate ? file.lastModifiedDate.toLocaleDateString() :\n",
              "                                    'n/a'} - `));\n",
              "    const percent = span('0% done');\n",
              "    li.appendChild(percent);\n",
              "\n",
              "    outputElement.appendChild(li);\n",
              "\n",
              "    const fileDataPromise = new Promise((resolve) => {\n",
              "      const reader = new FileReader();\n",
              "      reader.onload = (e) => {\n",
              "        resolve(e.target.result);\n",
              "      };\n",
              "      reader.readAsArrayBuffer(file);\n",
              "    });\n",
              "    // Wait for the data to be ready.\n",
              "    let fileData = yield {\n",
              "      promise: fileDataPromise,\n",
              "      response: {\n",
              "        action: 'continue',\n",
              "      }\n",
              "    };\n",
              "\n",
              "    // Use a chunked sending to avoid message size limits. See b/62115660.\n",
              "    let position = 0;\n",
              "    do {\n",
              "      const length = Math.min(fileData.byteLength - position, MAX_PAYLOAD_SIZE);\n",
              "      const chunk = new Uint8Array(fileData, position, length);\n",
              "      position += length;\n",
              "\n",
              "      const base64 = btoa(String.fromCharCode.apply(null, chunk));\n",
              "      yield {\n",
              "        response: {\n",
              "          action: 'append',\n",
              "          file: file.name,\n",
              "          data: base64,\n",
              "        },\n",
              "      };\n",
              "\n",
              "      let percentDone = fileData.byteLength === 0 ?\n",
              "          100 :\n",
              "          Math.round((position / fileData.byteLength) * 100);\n",
              "      percent.textContent = `${percentDone}% done`;\n",
              "\n",
              "    } while (position < fileData.byteLength);\n",
              "  }\n",
              "\n",
              "  // All done.\n",
              "  yield {\n",
              "    response: {\n",
              "      action: 'complete',\n",
              "    }\n",
              "  };\n",
              "}\n",
              "\n",
              "scope.google = scope.google || {};\n",
              "scope.google.colab = scope.google.colab || {};\n",
              "scope.google.colab._files = {\n",
              "  _uploadFiles,\n",
              "  _uploadFilesContinue,\n",
              "};\n",
              "})(self);\n",
              "</script> "
            ],
            "text/plain": [
              "<IPython.core.display.HTML object>"
            ]
          },
          "metadata": {},
          "output_type": "display_data"
        },
        {
          "name": "stdout",
          "output_type": "stream",
          "text": [
            "Saving CODE RUNNER.py to CODE RUNNER.py\n",
            "Saving CSV SPLITTER.PY to CSV SPLITTER.PY\n",
            "Saving DM BOT 1.py to DM BOT 1.py\n",
            "Saving DM BOT 2.py to DM BOT 2.py\n",
            "Saving handles_part1.csv to handles_part1 (1).csv\n",
            "Saving handles_part2.csv to handles_part2 (1).csv\n",
            "Saving MOCK SCRAPER.PY to MOCK SCRAPER.PY\n",
            "Saving storage1.json to storage1 (1).json\n",
            "Saving storage2.json to storage2 (1).json\n",
            "Saving targets.csv to targets (1).csv\n",
            "Uploaded: ['CODE RUNNER.py', 'CSV SPLITTER.PY', 'DM BOT 1.py', 'DM BOT 2.py', 'handles_part1 (1).csv', 'handles_part2 (1).csv', 'MOCK SCRAPER.PY', 'storage1 (1).json', 'storage2 (1).json', 'targets (1).csv']\n",
            "'CODE RUNNER.py'   'handles_part1 (1).csv'  'storage1 (1).json'\n",
            " CODE_RUNNER.py     handles_part1.csv\t     storage1.json\n",
            " CSV_SPLITTER.py   'handles_part2 (1).csv'  'storage2 (1).json'\n",
            "'CSV SPLITTER.PY'   handles_part2.csv\t     storage2.json\n",
            "'DM BOT 1.py'\t    MOCK_SCRAPER.py\t    'targets (1).csv'\n",
            " DM_BOT_1.py\t   'MOCK SCRAPER.PY'\t     targets.csv\n",
            "'DM BOT 2.py'\t    __pycache__\n",
            " DM_BOT_2.py\t    sample_data\n"
          ]
        }
      ],
      "source": [
        "from google.colab import files\n",
        "uploaded = files.upload()\n",
        "print(\"Uploaded:\", list(uploaded.keys()))\n",
        "!ls\n"
      ]
    },
    {
      "cell_type": "code",
      "execution_count": null,
      "metadata": {
        "colab": {
          "base_uri": "https://localhost:8080/"
        },
        "id": "wJ5HytWb3xu6",
        "outputId": "b1006ec8-0d92-4096-da04-bb57d4885183"
      },
      "outputs": [
        {
          "name": "stdout",
          "output_type": "stream",
          "text": [
            "Requirement already satisfied: playwright in /usr/local/lib/python3.11/dist-packages (1.54.0)\n",
            "Requirement already satisfied: nest_asyncio in /usr/local/lib/python3.11/dist-packages (1.6.0)\n",
            "Requirement already satisfied: pyee<14,>=13 in /usr/local/lib/python3.11/dist-packages (from playwright) (13.0.0)\n",
            "Requirement already satisfied: greenlet<4.0.0,>=3.1.1 in /usr/local/lib/python3.11/dist-packages (from playwright) (3.2.3)\n",
            "Requirement already satisfied: typing-extensions in /usr/local/lib/python3.11/dist-packages (from pyee<14,>=13->playwright) (4.14.1)\n"
          ]
        }
      ],
      "source": [
        "!pip install playwright nest_asyncio\n",
        "!playwright install chromium\n"
      ]
    },
    {
      "cell_type": "code",
      "execution_count": null,
      "metadata": {
        "id": "RGjXd8XQ4AGr"
      },
      "outputs": [],
      "source": [
        "import nest_asyncio\n",
        "import asyncio\n",
        "nest_asyncio.apply()\n"
      ]
    },
    {
      "cell_type": "code",
      "execution_count": null,
      "metadata": {
        "id": "g4awauQ_4FR4"
      },
      "outputs": [],
      "source": [
        "!mv \"CODE RUNNER.py\" CODE_RUNNER.py\n",
        "!mv \"CSV SPLITTER.PY\" CSV_SPLITTER.py\n",
        "!mv \"DM BOT 1.py\" DM_BOT_1.py\n",
        "!mv \"DM BOT 2.py\" DM_BOT_2.py\n",
        "!mv \"MOCK SCRAPER.PY\" MOCK_SCRAPER.py\n"
      ]
    },
    {
      "cell_type": "code",
      "execution_count": 19,
      "metadata": {
        "colab": {
          "base_uri": "https://localhost:8080/"
        },
        "id": "-6c48l8U4fIX",
        "outputId": "21fb3614-900b-4822-eeaa-e40fb6e3a644"
      },
      "outputs": [
        {
          "output_type": "stream",
          "name": "stdout",
          "text": [
            "mv: cannot stat 'CODE RUNNER.py': No such file or directory\n",
            "mv: cannot stat 'CSV SPLITTER.PY': No such file or directory\n",
            "mv: cannot stat 'DM BOT 1.py': No such file or directory\n",
            "mv: cannot stat 'DM BOT 2.py': No such file or directory\n",
            "mv: cannot stat 'MOCK SCRAPER.PY': No such file or directory\n",
            "Running MOCK SCRAPER...\n",
            "targets.csv created with column 'Instagram Handle'\n",
            "MOCK SCRAPER finished.\n",
            "Running CSV SPLITTER...\n",
            "Split complete: handles_part1.csv and handles_part2.csv\n",
            "CSV SPLITTER finished.\n",
            "Starting DM BOT 1 and DM BOT 2...\n",
            "[12:02:54] Shift started.\n",
            "Searching for @@joel.bardill...\n",
            "[12:02:55] Shift started.\n",
            "Searching for @@jac13b...\n",
            "[12:03:54] Messaged: @joel.bardill\n",
            "[12:03:54] Waiting 30 seconds before next account...\n",
            "DM failed to @@jac13b: Page.wait_for_selector: Timeout 30000ms exceeded.\n",
            "Call log:\n",
            "  - waiting for locator(\"textarea[placeholder=\\\"Message...\\\"], div[contenteditable=\\\"true\\\"]\") to be visible\n",
            "\n",
            "[12:03:55] Failed: @jac13b: Page.wait_for_selector: Timeout 30000ms exceeded.\n",
            "Call log:\n",
            "  - waiting for locator(\"textarea[placeholder=\\\"Message...\\\"], div[contenteditable=\\\"true\\\"]\") to be visible\n",
            "\n",
            "[12:03:55] Waiting 30 seconds before next account...\n",
            "[12:04:24] Shift started.\n",
            "[12:04:24] No leads. Exiting.\n",
            "[12:04:25] Shift started.\n",
            "[12:04:25] No leads. Exiting.\n"
          ]
        }
      ],
      "source": [
        "# 1. Rename files to remove spaces (important for imports)\n",
        "!mv \"CODE RUNNER.py\" CODE_RUNNER.py\n",
        "!mv \"CSV SPLITTER.PY\" CSV_SPLITTER.py\n",
        "!mv \"DM BOT 1.py\" DM_BOT_1.py\n",
        "!mv \"DM BOT 2.py\" DM_BOT_2.py\n",
        "!mv \"MOCK SCRAPER.PY\" MOCK_SCRAPER.py\n",
        "\n",
        "# 2. Fix async support in Colab\n",
        "import nest_asyncio, asyncio, importlib\n",
        "nest_asyncio.apply()\n",
        "\n",
        "# 3. Reload all modules so Colab uses the latest uploaded versions\n",
        "import CODE_RUNNER, DM_BOT_1, DM_BOT_2, MOCK_SCRAPER, CSV_SPLITTER\n",
        "importlib.reload(CODE_RUNNER)\n",
        "importlib.reload(DM_BOT_1)\n",
        "importlib.reload(DM_BOT_2)\n",
        "importlib.reload(MOCK_SCRAPER)\n",
        "importlib.reload(CSV_SPLITTER)\n",
        "\n",
        "# 4. Run the orchestrator\n",
        "await CODE_RUNNER.main()\n"
      ]
    }
  ],
  "metadata": {
    "colab": {
      "provenance": [],
      "authorship_tag": "ABX9TyN0PTJDAg5s/OKoqDvhcuOb",
      "include_colab_link": true
    },
    "kernelspec": {
      "display_name": "Python 3",
      "name": "python3"
    },
    "language_info": {
      "name": "python"
    }
  },
  "nbformat": 4,
  "nbformat_minor": 0
}